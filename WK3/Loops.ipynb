{
  "nbformat": 4,
  "nbformat_minor": 0,
  "metadata": {
    "colab": {
      "provenance": [],
      "include_colab_link": true
    },
    "kernelspec": {
      "name": "python3",
      "display_name": "Python 3"
    },
    "language_info": {
      "name": "python"
    }
  },
  "cells": [
    {
      "cell_type": "markdown",
      "metadata": {
        "id": "view-in-github",
        "colab_type": "text"
      },
      "source": [
        "<a href=\"https://colab.research.google.com/github/AJSDCCD/CISC-179-SPR25/blob/main/WK3/Loops.ipynb\" target=\"_parent\"><img src=\"https://colab.research.google.com/assets/colab-badge.svg\" alt=\"Open In Colab\"/></a>"
      ]
    },
    {
      "cell_type": "markdown",
      "source": [
        "# Loops in Python\n",
        "\n",
        "A sequence of instructions that repeats until a certain condition is met\n",
        "\n",
        "## Objective\n",
        "Understand how loops are applied\n",
        "\n",
        "## Prerequisite\n",
        "\n",
        "- Decision statements\n",
        "- Input functions\n",
        "- Python literals\n",
        "- Programming variables\n",
        "\n",
        "## What do you need to complete this exercise?\n",
        "\n",
        "You can perform this exercise in any Python IDE, including JupyterLab or Google Colab.\n"
      ],
      "metadata": {
        "id": "2ITy4ycVFXBq"
      }
    },
    {
      "cell_type": "markdown",
      "source": [
        "### While loop\n",
        "\n",
        "a. Please write Python code using a while loop to perform the following steps.\n",
        "\n",
        "1. Take any non-negative and non-zero integer number and name it ```n0```\n",
        "2. if the number is even, evaluate a new ```n0``` as ```n0 ÷ 2```;\n",
        "3. Otherwise, if the number is odd, evaluate a new ```n0``` as ```3 * n0 + 1```;\n",
        "4. if ```n0``` is not equal to 1, go to point 2.\n",
        "\n",
        "#### Sample input: ```16```\n",
        "\n",
        "#### Expected output: ###\n",
        "\n",
        "```\n",
        "8\n",
        "4\n",
        "2\n",
        "1\n",
        "steps = 4\n",
        "```"
      ],
      "metadata": {
        "id": "uQxH0KO0tsDc"
      }
    },
    {
      "cell_type": "code",
      "source": [
        "# Write your code here.\n",
        "\n",
        "n0=8\n",
        "\n",
        "while(n0!=1):\n",
        "  print(n0)\n",
        "  if n0 %2 ==0:\n",
        "    n0//=2\n",
        "\n",
        "  else:\n",
        "    n0= 3*n0 +1\n",
        "\n",
        "print(n0)"
      ],
      "metadata": {
        "id": "5M7ksW8xsC3k",
        "outputId": "25802b56-b1b0-4b75-df0e-5f814bac01a2",
        "colab": {
          "base_uri": "https://localhost:8080/"
        }
      },
      "execution_count": null,
      "outputs": [
        {
          "output_type": "stream",
          "name": "stdout",
          "text": [
            "8\n",
            "4\n",
            "2\n",
            "1\n"
          ]
        }
      ]
    },
    {
      "cell_type": "markdown",
      "source": [
        "b. Write code that uses a while loop and runs indefinitely. Modify the same code to resolve the infinite loop issue."
      ],
      "metadata": {
        "id": "S3X6hdy5sI-s"
      }
    },
    {
      "cell_type": "code",
      "source": [
        "# Write your code here.\n",
        "n0=8\n",
        "\n",
        "while(n0!=1):\n",
        "  print(n0)\n",
        "\n",
        "#will run indefinitely and make your laptop explode like mine did when I accidentally executed the code mid-write\n"
      ],
      "metadata": {
        "id": "cs0pk1_qsNY0"
      },
      "execution_count": null,
      "outputs": []
    },
    {
      "cell_type": "markdown",
      "source": [
        "c. Write a program that takes two integers as input and asks the user to choose an arithmetic operation to perform with those numbers. At the end of the program, prompt the user with the question, \"Do you want to continue?\" If the user selects \"Y\" or \"y,\" the program should restart; otherwise, it should exit and display the message, \"Have a good day.\""
      ],
      "metadata": {
        "id": "oxXvMBKNsX8M"
      }
    },
    {
      "cell_type": "code",
      "source": [
        "# Write your code here.\n",
        "\n",
        "import math\n",
        "\n",
        "init_value1=input(int(\"Please enter the first integer: \"))\n",
        "\n",
        "init_value2=input(int(\"Please enter the second integer: \"))"
      ],
      "metadata": {
        "id": "w9Ai1I_JsYw9"
      },
      "execution_count": null,
      "outputs": []
    },
    {
      "cell_type": "markdown",
      "source": [
        "### 2. For loops\n",
        "\n",
        "a. Write a code that counts the total number of characters in a text and also counts each character individually. For example, consider the sentence \"To be, or not to be, that is the question.\" The code should determine the total number of letters and how many times each letter appears, including specific counts for the letters 't' and 'o', etc. Ignore the upper and lower cases letters, and any punctuations symbols. Use only for loop, while loop, break and continue statements where necessary.\n",
        "\n",
        "#### Sample input: ```To be, or not to be, that is the question```\n",
        "\n",
        "#### Expected output: ###\n",
        "\n",
        "```\n",
        "Total number of alphabets: 30\n",
        "Total number of distinct alphabets are:\n",
        "T = 7\n",
        "o = 4\n",
        "```\n",
        "> **Note:** The expected output above is incomplete.\n"
      ],
      "metadata": {
        "id": "IeiOBf1Tse1c"
      }
    },
    {
      "cell_type": "code",
      "source": [
        "# Write your code here.\n",
        "\n",
        "text=\"To be, or not to be, that is the question\"\n",
        "\n",
        "total_letters=0\n",
        "char_count={}\n",
        "\n",
        "print(\"The total number of characters in the text is: \" , total)\n",
        "\n",
        "for char in text:\n",
        "  char=char.lower()\n",
        "\n",
        "  if char.isalpha():\n",
        "    char_count[char]= char_count.get(char, 0) + 1\n",
        "    total_letters+=1\n",
        "\n",
        "    continue\n",
        "\n",
        "print(\"Total number of letters:\", total_letters)\n",
        "print(\"Individual letter occurrences:\")\n",
        "\n",
        "for key, value in char_count.items():\n",
        "        print(f\"{key}: {value}\")\n",
        "\n",
        ""
      ],
      "metadata": {
        "id": "FprfxHfksh2-",
        "outputId": "289bacdd-be40-4bfc-b549-fa371e4dc60b",
        "colab": {
          "base_uri": "https://localhost:8080/"
        }
      },
      "execution_count": 10,
      "outputs": [
        {
          "output_type": "stream",
          "name": "stdout",
          "text": [
            "The total number of characters in the text is:  41\n",
            "Total number of letters: 30\n",
            "Individual letter occurrences:\n",
            "t: 7\n",
            "o: 5\n",
            "b: 2\n",
            "e: 4\n",
            "r: 1\n",
            "n: 2\n",
            "h: 2\n",
            "a: 1\n",
            "i: 2\n",
            "s: 2\n",
            "q: 1\n",
            "u: 1\n"
          ]
        }
      ]
    },
    {
      "cell_type": "markdown",
      "source": [
        "## Challenges\n",
        "\n",
        "Please describe the challenges you faced during the exercise."
      ],
      "metadata": {
        "id": "xQzjxKdvvbyo"
      }
    },
    {
      "cell_type": "markdown",
      "source": [
        "The for loop was challenging; I had to look up some python docs and refer to advice from stack overflow to figure it out."
      ],
      "metadata": {
        "id": "qfJNpTB5EbY4"
      }
    }
  ]
}