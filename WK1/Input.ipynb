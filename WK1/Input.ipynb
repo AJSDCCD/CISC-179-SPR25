{
  "nbformat": 4,
  "nbformat_minor": 0,
  "metadata": {
    "colab": {
      "provenance": [],
      "include_colab_link": true
    },
    "kernelspec": {
      "name": "python3",
      "display_name": "Python 3"
    },
    "language_info": {
      "name": "python"
    }
  },
  "cells": [
    {
      "cell_type": "markdown",
      "metadata": {
        "id": "view-in-github",
        "colab_type": "text"
      },
      "source": [
        "<a href=\"https://colab.research.google.com/github/AJSDCCD/CISC-179-SPR25/blob/main/WK1/Input.ipynb\" target=\"_parent\"><img src=\"https://colab.research.google.com/assets/colab-badge.svg\" alt=\"Open In Colab\"/></a>"
      ]
    },
    {
      "cell_type": "markdown",
      "source": [
        "# User input in Python\n",
        "\n",
        "## Objective\n",
        "1. Understand how ```input()``` function is applied.\n",
        "\n",
        "## Prerequisite\n",
        "\n",
        "- Python literals lecture & lab\n",
        "- Programming variables lecture\n",
        "\n",
        "## What do you need to complete this exercise?\n",
        "\n",
        "You can perform this exercise in any Python IDE, including JupyterLab or Google Colab.\n"
      ],
      "metadata": {
        "id": "2ITy4ycVFXBq"
      }
    },
    {
      "cell_type": "markdown",
      "source": [
        "### User input\n",
        "\n",
        "a. Write a program that prompts the user to enter the weight of a person in kilograms and outputs the equivalent weight in pounds. (Note that 1 kilogram = 2.2 pounds)."
      ],
      "metadata": {
        "id": "uQxH0KO0tsDc"
      }
    },
    {
      "cell_type": "code",
      "source": [
        "# Write your code here\n",
        "# Hint: Use int() or float() to convert the user input into an integer or float\n",
        "kg=int(input(\"Please enter weight in kg: \"))\n",
        "\n",
        "lb=kg*2.2\n",
        "\n",
        "print(\"The weight in lb is: \" , lb)\n"
      ],
      "metadata": {
        "colab": {
          "base_uri": "https://localhost:8080/"
        },
        "id": "N3wgQQ672rWR",
        "outputId": "3b61e366-9691-46aa-8a62-793ced22a67a"
      },
      "execution_count": 2,
      "outputs": [
        {
          "output_type": "stream",
          "name": "stdout",
          "text": [
            "Please enter weight in kg: 1\n",
            "The weight in lb is:  2.2\n"
          ]
        }
      ]
    },
    {
      "cell_type": "markdown",
      "source": [
        "b. Interest on a credit card's unpaid balance is calculated using the average daily balance. Suppose that $netBalance$ is the balance shown in the bill, $payment$ is the payment made, $d1$ is the number of days in the billing cycle, and $d2$ is the number of days payment is made before biling cycle. Then, the average daily balance is: $$averageDailybalance = (netBalance \\times d1 - payment \\times d2)/d1$$.\n",
        "\n",
        "If the interest rate per month is, say, 0.0152, then the interest on the unpaid balance is: $interest = averageDailyBalance \\times 0.0152$\n",
        "\n",
        "Write a program that accepts as input $netBalance$, $payment$, $d1$, $d2$, and $interest rate per month$. The program outputs the interest."
      ],
      "metadata": {
        "id": "2ou6B-5b2ws3"
      }
    },
    {
      "cell_type": "code",
      "source": [
        "# Write your code here\n",
        "\n",
        "netBalance=float(input(\"Enter the net balance: \"))\n",
        "\n",
        "payment=float(input(\"Please enter the payment amount: \"))\n",
        "\n",
        "days1=int(input(\"Number of days in billing cycle: \"))\n",
        "\n",
        "days2=int(input(\"Number of days before billing cycle: \"))\n",
        "\n",
        "interestratepermonth=float(input(\"Interest Rate: \"))\n",
        "\n",
        "\n",
        "averageDailybalance=(netBalance*days1 - payment*days2)/days1\n",
        "\n",
        "interest = averageDailybalance*interestratepermonth\n",
        "\n",
        "print(interest)\n"
      ],
      "metadata": {
        "id": "pqP70bD02x9h",
        "outputId": "09c057d5-7552-407d-f5b9-5b76a869ebbb",
        "colab": {
          "base_uri": "https://localhost:8080/"
        }
      },
      "execution_count": 5,
      "outputs": [
        {
          "output_type": "stream",
          "name": "stdout",
          "text": [
            "Enter the net balance: 200\n",
            "Please enter the payment amount: 5\n",
            "Number of days in billing cycle: 30\n",
            "Number of days before billing cycle: 2\n",
            "Interest Rate: 0.0152\n",
            "3.034933333333333\n"
          ]
        }
      ]
    },
    {
      "cell_type": "markdown",
      "source": [
        "c. Two cars A and B leave an intersection at the same time. Car A travels west at an average speed of x miles per hour and car B travels south at an average speed of y miles per hour. Write a program that prompts the user to enter the average speed of both the cars and the elapsed time (in hours and minutes) and outputs the (shortest) distance between the cars."
      ],
      "metadata": {
        "id": "gAxw_xVk25qO"
      }
    },
    {
      "cell_type": "code",
      "source": [
        "# Write your code here\n",
        "\n",
        "import math\n",
        "\n",
        "timeH=int(input(\"Hours Elapsed: \"))\n",
        "\n",
        "timeM=int(input(\"Minutes Elapsed: \"))\n",
        "\n",
        "speedA=int(input(\"Enter the average speed of Car A in mph: \"))\n",
        "\n",
        "speedB=int(input(\"Enter the average speed of Car B in mph: \"))\n",
        "\n",
        "time = timeH + timeM/60\n",
        "\n",
        "\n",
        "\n",
        "#Distance Car A has traveled\n",
        "Car_A=speedA*time\n",
        "\n",
        "#Distance Car_B has traveled\n",
        "\n",
        "Car_B=speedB*time\n",
        "\n",
        "distBetween= math.sqrt(Car_A**2 + Car_B**2)\n",
        "\n",
        "print(\"The distance between Car and Car B is \" , distBetween , \"miles.\")\n"
      ],
      "metadata": {
        "id": "nMPuZXsH26nW",
        "outputId": "96c2a3d2-e2c3-421b-911d-c41f00517bd3",
        "colab": {
          "base_uri": "https://localhost:8080/"
        }
      },
      "execution_count": 6,
      "outputs": [
        {
          "output_type": "stream",
          "name": "stdout",
          "text": [
            "Hours Elapsed: 1\n",
            "Minutes Elapsed: 30\n",
            "Enter the average speed of Car A in mph: 10\n",
            "Enter the average speed of Car B in mph: 10\n",
            "The distance between Car and Car B is  21.213203435596427 miles.\n"
          ]
        }
      ]
    },
    {
      "cell_type": "markdown",
      "source": [
        "### Troubleshooting\n",
        "\n",
        "Please troubleshoot the following issue **without using Python**, and explain your reasoning.\n",
        "\n",
        "a. ```hello = \"hello\"```  \n",
        "b. ```_var = 100```  \n",
        "c. ```!var_1 = 200```  \n",
        "d. ```print = \"print me\"```  \n",
        "e. ```False = 0```  "
      ],
      "metadata": {
        "id": "V0l5fqK-NJ2n"
      }
    },
    {
      "cell_type": "markdown",
      "source": [
        "Write your answer here"
      ],
      "metadata": {
        "id": "Cz8CqobPNO8n"
      }
    },
    {
      "cell_type": "markdown",
      "source": [
        "## Challenges\n",
        "\n",
        "Please describe the challenges you faced during the exercise."
      ],
      "metadata": {
        "id": "xQzjxKdvvbyo"
      }
    },
    {
      "cell_type": "markdown",
      "source": [
        "Write your challenges here"
      ],
      "metadata": {
        "id": "qfJNpTB5EbY4"
      }
    }
  ]
}